{
 "cells": [
  {
   "cell_type": "code",
   "execution_count": 13,
   "metadata": {},
   "outputs": [],
   "source": [
    "import json\n",
    "import numpy as np\n",
    "import math\n",
    "import matplotlib.pyplot as plt\n",
    "from pyod.models.lof import LOF\n",
    "import argparse\n",
    "import torch\n",
    "import torch.utils.data\n",
    "from torch import nn, optim\n",
    "from torch.nn import functional as F\n",
    "from torchvision import datasets, transforms\n",
    "from torchvision.utils import save_image\n",
    "from torch.utils.data import Dataset, DataLoader\n",
    "from torchvision import transforms, utils\n",
    "import numpy as np\n",
    "import json"
   ]
  },
  {
   "cell_type": "code",
   "execution_count": 44,
   "metadata": {},
   "outputs": [],
   "source": [
    "import pickle\n",
    "from sklearn.preprocessing import StandardScaler\n",
    "with open('../data/boiler/state424.pkl', 'rb') as f:\n",
    "    data = pickle.load(f)\n",
    "graph = data['graph']\n",
    "label = data['label']\n",
    "data = data['data']\n",
    "\n",
    "scaler = StandardScaler()\n",
    "data = scaler.fit_transform(data)\n",
    "\n",
    "np.save('../data/boiler/X_train.npy', data)\n",
    "np.save('../data/boiler/y_train.npy', data)\n",
    "np.save('../data/boiler/X_test.npy', data[label])\n",
    "np.save('../data/boiler/y_test.npy', data[label])\n",
    "np.save('../data/boiler/boiler.npy', graph)"
   ]
  },
  {
   "cell_type": "code",
   "execution_count": 47,
   "metadata": {},
   "outputs": [
    {
     "data": {
      "text/plain": [
       "42994"
      ]
     },
     "execution_count": 47,
     "metadata": {},
     "output_type": "execute_result"
    }
   ],
   "source": [
    "len(data[~label])"
   ]
  },
  {
   "cell_type": "code",
   "execution_count": 38,
   "metadata": {},
   "outputs": [],
   "source": [
    "datadir = '../data/boiler/'\n",
    "\n",
    "# anomaly\n",
    "x2 = np.load(datadir + 'std1.npy').squeeze()\n",
    "y2 = np.load(datadir + 'mu_loss1.npy').squeeze()\n",
    "# normal\n",
    "x1 = np.load(datadir + 'std.npy').squeeze()\n",
    "y1 = np.load(datadir + 'mu_loss.npy').squeeze()\n",
    "\n",
    "x2sum = np.sum(x2, axis = 1).squeeze()\n",
    "y2sum = np.sum(y2, axis = 1).squeeze()\n",
    "x1sum = np.sum(x1, axis = 1).squeeze()\n",
    "y1sum = np.sum(y1, axis = 1).squeeze()"
   ]
  },
  {
   "cell_type": "code",
   "execution_count": 2,
   "metadata": {},
   "outputs": [
    {
     "name": "stdout",
     "output_type": "stream",
     "text": [
      "(10000, 522) (10000,) (9492, 522) (9492,)\n"
     ]
    }
   ],
   "source": [
    "import pandas as pd\n",
    "from sklearn.model_selection import train_test_split\n",
    "from sklearn.preprocessing import StandardScaler\n",
    "from sklearn import preprocessing\n",
    "import numpy as np\n",
    "\n",
    "# data generation for locdoor\n",
    "\n",
    "df = pd.read_csv('../data/UJIndoorLoc/trainingData.csv')\n",
    "for head in df.columns:\n",
    "    if head[:3] != 'WAP' and head[0] != 'L' and head != 'BUILDINGID':\n",
    "        df = df.drop([head], axis=1)\n",
    "anomaly_data = df[df['BUILDINGID'] == 0]\n",
    "normal_data = df[df['BUILDINGID'] == 2]\n",
    "\n",
    "anomaly_data = np.array(anomaly_data.drop(['BUILDINGID'], axis=1))\n",
    "normal_data = np.array(normal_data.drop(['BUILDINGID'], axis=1))\n",
    "\n",
    "scaler = StandardScaler()\n",
    "anomaly_data = scaler.fit_transform(anomaly_data)\n",
    "normal_data = scaler.fit_transform(normal_data)\n",
    "\n",
    "X_train = np.concatenate((normal_data, anomaly_data[:508]))\n",
    "y_train = np.concatenate((np.zeros(len(normal_data)), np.ones(508)))\n",
    "\n",
    "X_test = X_train[y_train == 0]\n",
    "y_test = y_train[y_train == 0]\n",
    "\n",
    "np.save('../data/UJIndoorLoc/X_train.npy', X_train)\n",
    "np.save('../data/UJIndoorLoc/X_test.npy', X_test)\n",
    "np.save('../data/UJIndoorLoc/y_train.npy', y_train)\n",
    "np.save('../data/UJIndoorLoc/y_test.npy', y_test)\n",
    "\n",
    "print(X_train.shape, y_train.shape, X_test.shape, y_test.shape)"
   ]
  },
  {
   "cell_type": "code",
   "execution_count": 7,
   "metadata": {},
   "outputs": [
    {
     "name": "stderr",
     "output_type": "stream",
     "text": [
      "/home/nana/anaconda3/lib/python3.7/site-packages/sklearn/utils/validation.py:475: DataConversionWarning: Data with input dtype int64 was converted to float64 by StandardScaler.\n",
      "  warnings.warn(msg, DataConversionWarning)\n"
     ]
    },
    {
     "name": "stdout",
     "output_type": "stream",
     "text": [
      "(45000, 400) (5000, 400) (45000,) (5000,)\n",
      "(40499, 400) (40499,) (499, 400) (499,)\n"
     ]
    }
   ],
   "source": [
    "import pandas as pd\n",
    "from sklearn.model_selection import train_test_split\n",
    "from sklearn.preprocessing import StandardScaler\n",
    "from sklearn import preprocessing\n",
    "import numpy as np\n",
    "\n",
    "# data generation for front\n",
    "\n",
    "data_path = ['../data/fonts/OCRB.csv', '../data/fonts/HANDPRINT.csv']\n",
    "\n",
    "total_data = []\n",
    "total_lable = []\n",
    "for i in range(len(data_path)):\n",
    "    data = pd.read_csv(data_path[i])\n",
    "    data = data[data['strength'] == 0.4]\n",
    "    for head in data.columns:\n",
    "        if head[0] != 'r':\n",
    "            data = data.drop([head], axis=1)\n",
    "    if i == 0:\n",
    "        total_data = np.array(data)[:45000]\n",
    "        total_lable = np.zeros(len(data))[:45000]\n",
    "    else:\n",
    "        total_data = np.concatenate((total_data, data[:5000]), axis=0)\n",
    "        total_lable = np.concatenate((total_lable, np.ones(5000)))\n",
    "    \n",
    "scaler = StandardScaler()\n",
    "total_data = scaler.fit_transform(total_data)\n",
    "\n",
    "X_train, X_test, y_train, y_test = train_test_split(total_data, total_lable, test_size=0.1, random_state=42)\n",
    "print(X_train.shape, X_test.shape, y_train.shape, y_test.shape)\n",
    "\n",
    "# X_test = np.concatenate((X_train[y_train == 1],X_test[y_test == 1]),axis=0)\n",
    "# y_test = np.concatenate((y_train[y_train == 1],y_test[y_test == 1]),axis=0)\n",
    "\n",
    "X_test = X_test[y_test == 1]\n",
    "y_test = y_test[y_test == 1]\n",
    "\n",
    "X_train = X_train[y_train == 0]\n",
    "y_train = y_train[y_train == 0]\n",
    "\n",
    "print(X_train.shape, y_train.shape, X_test.shape, y_test.shape)\n",
    "np.save('../data/fonts/X_train.npy', X_train)\n",
    "np.save('../data/fonts/X_test.npy', X_test)\n",
    "np.save('../data/fonts/y_train.npy', y_train)\n",
    "np.save('../data/fonts/y_test.npy', y_test)"
   ]
  },
  {
   "cell_type": "code",
   "execution_count": 2,
   "metadata": {},
   "outputs": [
    {
     "name": "stdout",
     "output_type": "stream",
     "text": [
      "(247010, 121)\n",
      "(208612, 121) (208612,) (247011, 121) (247011,)\n"
     ]
    }
   ],
   "source": [
    "import pandas as pd\n",
    "from sklearn.model_selection import train_test_split\n",
    "from sklearn.preprocessing import StandardScaler\n",
    "from sklearn import preprocessing\n",
    "\n",
    "# data generation for kdd99\n",
    "\n",
    "url_base = \"http://kdd.ics.uci.edu/databases/kddcup99\"\n",
    "\n",
    "# KDDCup 10% Data\n",
    "url_data = f\"{url_base}/kddcup.data_10_percent.gz\"\n",
    "# info data (column names, col types)\n",
    "url_info = f\"{url_base}/kddcup.names\"\n",
    "\n",
    "# Import info data\n",
    "df_info = pd.read_csv(url_info, sep=\":\", skiprows=1, index_col=False, names=[\"colname\", \"type\"])\n",
    "colnames = df_info.colname.values\n",
    "coltypes = np.where(df_info[\"type\"].str.contains(\"continuous\"), \"float\", \"str\")\n",
    "colnames = np.append(colnames, [\"status\"])\n",
    "coltypes = np.append(coltypes, [\"str\"])\n",
    "\n",
    "# Import data\n",
    "df = pd.read_csv(url_data, names=colnames, index_col=False,\n",
    "                 dtype=dict(zip(colnames, coltypes)))\n",
    "# df = pd.read_csv('../data/kddcup.data_10_percent_corrected', names=colnames, index_col=False,\n",
    "#                  dtype=dict(zip(colnames, coltypes)))\n",
    "# Dumminize\n",
    "X = pd.get_dummies(df.iloc[:,:-1]).values\n",
    "\n",
    "# Normalize\n",
    "scaler = scaler = StandardScaler()\n",
    "X = scaler.fit_transform(X)\n",
    "\n",
    "# min_max_scaler = preprocessing.MinMaxScaler()\n",
    "# X = min_max_scaler.fit_transform(X)\n",
    "\n",
    "\n",
    "# Create Traget Flag\n",
    "# Anomaly data when status is normal, Otherwise, Not anomaly.\n",
    "y = np.where(df.status == \"normal.\", -1, 0)\n",
    "\n",
    "# Split Data\n",
    "X_train, X_test, y_train, y_test = train_test_split(X, y, test_size=0.50, random_state=123)\n",
    "# X_train, y_train = X_train[y_train == 0], y_train[y_train == 0]\n",
    "# X_test, y_test = X_test[y_test == 0], y_test[y_test == 0]\n",
    "\n",
    "# X_anomaly, y_anomaly = X_train[y_train == -1][-10000:], y_train[y_train == -1][-10000:]\n",
    "X_anomaly, y_anomaly = X_train[y_train == -1][:10000], y_train[y_train == -1][:10000]\n",
    "X_normal, y_normal = X_train[y_train == 0], y_train[y_train == 0]\n",
    "print(X_train.shape)\n",
    "X_train = np.concatenate((X_normal,X_anomaly),axis=0)\n",
    "y_train = np.concatenate((y_normal,y_anomaly),axis=0)\n",
    "print(X_train.shape, y_train.shape, X_test.shape, y_test.shape)\n",
    "\n",
    "# Save traning and testing data\n",
    "# np.save('../data/kddcup99/X_train.npy',X_train)\n",
    "# np.save('../data/kddcup99/X_test.npy', X_test)\n",
    "# np.save('../data/kddcup99/y_train.npy', y_train)\n",
    "# np.save('../data/kddcup99/y_test.npy', y_test)"
   ]
  },
  {
   "cell_type": "code",
   "execution_count": 9,
   "metadata": {},
   "outputs": [
    {
     "name": "stdout",
     "output_type": "stream",
     "text": [
      "(11013, 36) (11013,)\n",
      "(4950, 36) (4950,)\n"
     ]
    },
    {
     "name": "stderr",
     "output_type": "stream",
     "text": [
      "/home/nana/anaconda3/lib/python3.7/site-packages/sklearn/utils/validation.py:475: DataConversionWarning: Data with input dtype object was converted to float64 by StandardScaler.\n",
      "  warnings.warn(msg, DataConversionWarning)\n"
     ]
    }
   ],
   "source": [
    "import pandas as pd\n",
    "from sklearn.model_selection import train_test_split\n",
    "from sklearn.preprocessing import StandardScaler\n",
    "from sklearn import preprocessing\n",
    "\n",
    "\n",
    "# Import data\n",
    "\n",
    "df = pd.read_csv('../data/letter/letter.csv')\n",
    "# print(df)\n",
    "X_anomaly = df[df['Class'] == 5]\n",
    "X_normal = df[df['Class'] == 1]\n",
    "\n",
    "X_anomaly = X_anomaly.replace(['?','$'],method='bfill')\n",
    "X_anomaly = X_anomaly.replace([0,'$'],method='ffill')\n",
    "X_anomaly = X_anomaly.replace('?',0)\n",
    "\n",
    "X_normal = X_normal.replace(['?','$'],method='bfill')\n",
    "X_normal = X_normal.replace([0,'$'],method='ffill')\n",
    "X_normal = X_normal.replace('?',0)\n",
    "\n",
    "\n",
    "\n",
    "X_anomaly = np.array(X_anomaly.iloc[:15000, 2:])\n",
    "X_normal = np.array(X_normal.iloc[:1500, 2:])\n",
    "\n",
    "X = np.concatenate((X_anomaly, X_normal),axis=0)\n",
    "y = np.concatenate(([0 for i in range(len(X_anomaly))], [-1 for i in range(len(X_normal))]),axis=0)\n",
    "X_train, X_test, y_train, y_test = train_test_split(X, y, test_size=0.3, random_state=123)\n",
    "# X_test, y_test = X_test[y_test == -1], y_test[y_test == -1]\n",
    "\n",
    "X_temp, y_temp = X_train[y_train == -1], y_train[y_train == -1]\n",
    "X_train, y_train = X_train[y_train == 0], y_train[y_train == 0]\n",
    "\n",
    "X_train =  np.concatenate((X_train, X_temp[:len(X_temp) // 2]),axis=0)\n",
    "y_train =  np.concatenate((y_train, y_temp[:len(y_temp) // 2]),axis=0)\n",
    "# X_test = np.concatenate((X_test, X_temp[len(X_temp) // 2:]),axis=0)\n",
    "# y_test = np.concatenate((y_test, y_temp[len(X_temp) // 2:]),axis=0)\n",
    "\n",
    "print(X_train.shape, y_train.shape)\n",
    "print(X_test.shape, y_test.shape)\n",
    "# print(len(np.where(y_test == -1)[0]))\n",
    "# Normalize\n",
    "scaler = scaler = StandardScaler()\n",
    "X_train = scaler.fit_transform(X_train)\n",
    "X_test = scaler.fit_transform(X_test)\n",
    "# np.save('../data/letter/X_train.npy',X_train)\n",
    "# np.save('../data/letter/X_test.npy', X_test)\n",
    "# np.save('../data/letter/y_train.npy', y_train)\n",
    "# np.save('../data/letter/y_test.npy', y_test)"
   ]
  },
  {
   "cell_type": "code",
   "execution_count": 7,
   "metadata": {},
   "outputs": [
    {
     "name": "stdout",
     "output_type": "stream",
     "text": [
      "(19016, 13)\n",
      "(12749, 13) (1000, 13) (5705, 13)\n"
     ]
    }
   ],
   "source": [
    "import pandas as pd\n",
    "from sklearn.model_selection import train_test_split\n",
    "from sklearn.preprocessing import StandardScaler\n",
    "from sklearn import preprocessing\n",
    "import os\n",
    "import pprint\n",
    "\n",
    "# data generation for thyroid\n",
    "\n",
    "# Import data\n",
    "\n",
    "filenames = os.listdir('../data/thyroid/')\n",
    "\n",
    "data = []\n",
    "for filename in filenames:\n",
    "    if filename.strip().split('.')[-1] == 'data' or filename.split('.')[-1] == 'test':\n",
    "        with open('../data/thyroid/' + filename,'r') as f:\n",
    "            lines = f.readlines()\n",
    "            for line in lines:\n",
    "                record = line.split('|')[0].split('[')[0].split(',')\n",
    "                if record.count('?') > 1:\n",
    "                    continue\n",
    "                data.append(record)\n",
    "df = pd.DataFrame(data)\n",
    "\n",
    "# padding missing data\n",
    "df = df.replace(['?','$'],method='pad')\n",
    "df = df.replace('?',0)\n",
    "df = df.iloc[:,[0,1,17,19,21,23,25,27,28,-1]]\n",
    "# print(df)\n",
    "\n",
    "# Dumminize\n",
    "df = df.replace(['F','M'], [0,1])\n",
    "X = pd.concat([df.iloc[:,:-1],pd.get_dummies(df.iloc[:,-2:-1])],axis=1)\n",
    "X.drop([28],axis=1, inplace=True)\n",
    "X = np.array(X).astype(np.float)\n",
    "print(X.shape)\n",
    "\n",
    "# Normalize\n",
    "scaler = scaler = StandardScaler()\n",
    "X = scaler.fit_transform(X)\n",
    "# min_max_scaler = preprocessing.MinMaxScaler()\n",
    "# X = min_max_scaler.fit_transform(X)\n",
    "\n",
    "\n",
    "# Create Traget Flag\n",
    "# Anomaly data when status is normal, Otherwise, Not anomaly.\n",
    "y = np.where((df.iloc[:,-1] == \"negative.\") | (df.iloc[:,-1] == \"-\"), 0, -1)\n",
    "\n",
    "# Split Data\n",
    "\n",
    "X_train, X_test, y_train, y_test = train_test_split(X, y, test_size=0.30, random_state=123)\n",
    "# X_test, y_test = X_train[y_train == 0], y_train[y_train == 0]\n",
    "# X_test, y_test = X_test[y_test == -1], y_test[y_test == -1]\n",
    "\n",
    "      \n",
    "X_temp = X_train[y_train == -1][:1000]\n",
    "y_temp = y_train[y_train == -1][:1000]\n",
    "X_train, y_train = X_train[y_train == 0], y_train[y_train == 0]\n",
    "X_train = np.concatenate((X_train,X_temp),axis=0)\n",
    "y_train = np.concatenate((y_train,y_temp),axis=0)\n",
    "print(X_train.shape, X_temp.shape, X_test.shape)\n",
    "# print(len(np.where(y_test == -1)[0]))\n",
    "# Save traning and testing data\n",
    "# np.save('../data/thyroid/X_train.npy',X_train)\n",
    "# np.save('../data/thyroid/X_test.npy', X_test)\n",
    "# np.save('../data/thyroid/y_train.npy', y_train)\n",
    "# np.save('../data/thyroid/y_test.npy', y_test)"
   ]
  },
  {
   "cell_type": "code",
   "execution_count": null,
   "metadata": {},
   "outputs": [],
   "source": [
    "from sklearn import svm\n",
    "clf = svm.OneClassSVM(nu=0.1, kernel=\"rbf\", gamma=0.1)\n",
    "clf.fit(X_train)\n",
    "y_pred_test = clf.predict(X_test)\n",
    "n_error_test = set(np.where(y_pred_test == -1)[0])\n",
    "n_true_test = set(np.where(y_test == -1)[0])"
   ]
  },
  {
   "cell_type": "code",
   "execution_count": 379,
   "metadata": {},
   "outputs": [
    {
     "name": "stdout",
     "output_type": "stream",
     "text": [
      " Precision = 0.001\n",
      " Recall    = 0.002\n",
      " F1-Score  = 0.001\n"
     ]
    }
   ],
   "source": [
    "recall = len(n_error_test & n_true_test) / len(n_true_test)\n",
    "presicion = len(n_error_test & n_true_test) / len(n_error_test)\n",
    "f1 = 2*recall*presicion / (recall + presicion)\n",
    "print(f\" Precision = {presicion:.3f}\")\n",
    "print(f\" Recall    = {recall:.3f}\")\n",
    "print(f\" F1-Score  = {f1:.3f}\")"
   ]
  },
  {
   "cell_type": "code",
   "execution_count": 4,
   "metadata": {},
   "outputs": [],
   "source": [
    "import numpy as np\n",
    "datadir = '../data/kddcup99/'\n",
    "\n",
    "# anomaly\n",
    "x2 = np.load(datadir + 'std1.npy').squeeze()\n",
    "y2 = np.load(datadir + 'mu_loss1.npy').squeeze()\n",
    "# normal\n",
    "x1 = np.load(datadir + 'std.npy').squeeze()\n",
    "y1 = np.load(datadir + 'mu_loss.npy').squeeze()"
   ]
  },
  {
   "cell_type": "code",
   "execution_count": 5,
   "metadata": {},
   "outputs": [],
   "source": [
    "x2sum = np.sum(x2, axis = 1).squeeze()\n",
    "y2sum = np.sum(y2, axis = 1).squeeze()\n",
    "x1sum = np.sum(x1, axis = 1).squeeze()\n",
    "y1sum = np.sum(y1, axis = 1).squeeze()"
   ]
  },
  {
   "cell_type": "code",
   "execution_count": 14,
   "metadata": {
    "scrolled": true
   },
   "outputs": [
    {
     "name": "stdout",
     "output_type": "stream",
     "text": [
      "(48880, 121) (198131, 121) (48880, 5) (198131, 5)\n",
      "6176\n",
      "6176\n",
      "anomaly: (6176, 126)\n",
      "normal: (134177, 126)\n",
      "total instance: (140353, 126)\n",
      "total label: (140353,)\n",
      "(247011, 126)\n"
     ]
    }
   ],
   "source": [
    "# first is normal, secord is anomaly\n",
    "\n",
    "# kdd99 \n",
    "upper = 102.5 #10000000 #102.5 #58.5  #46    #20.22\n",
    "lower = 0.1\n",
    "# upper1 = 20.15  #7.6      #16    #20.06 #20.15 #nan \n",
    "\n",
    "# # letter\n",
    "# upper = 41.6  #31.3 #33.8 #37 #41.6\n",
    "# lower = 17.5\n",
    "\n",
    "# # thyroid\n",
    "# upper = 2 #0.4  #0.57 #0.95 #2\n",
    "# lower = 0.04\n",
    "\n",
    "# y1 = y1sum\n",
    "# y2 = y2sum\n",
    "# x1 = x1sum\n",
    "# x2 = x2sum\n",
    "print(y1.shape, y2.shape, x1.shape, x2.shape)\n",
    "\n",
    "# anomalyInstance = np.array([y1[np.where(y1sum > upper)[0]], x1[np.where(y1sum > upper)[0]]]).T\n",
    "anomalyInstance = np.concatenate((y1[np.where(y1sum > upper)[0]], x1[np.where(y1sum > upper)[0]]), axis=1)\n",
    "# tmp = np.array([y2[np.where(y2sum > upper)[0]], x2[np.where(y2sum > upper)[0]]]).T\n",
    "tmp = np.concatenate((y2[np.where(y2sum > upper)[0]], x2[np.where(y2sum > upper)[0]]), axis=1)\n",
    "print(len(anomalyInstance) + len(tmp))\n",
    "# anomalyInstance = np.array([y1[np.where(y1 > upper1)[0]], x1[np.where(y1 > upper1)[0]]]).T\n",
    "# anomalyInstance = np.concatenate((y1[np.where(y1sum > upper1)[0]], x1[np.where(y1sum > upper1)[0]]), axis=1)\n",
    "print(len(anomalyInstance) + len(tmp))\n",
    "\n",
    "\n",
    "anomalyInstance = np.concatenate((anomalyInstance, tmp), axis=0)\n",
    "print('anomaly:',anomalyInstance.shape)\n",
    "\n",
    "\n",
    "normalInstance = []\n",
    "# normalInstance = np.array([y1[np.where(y1 < lower)[0]], x1[np.where(y1 < lower)[0]]]).T\n",
    "normalInstance = np.concatenate((y1[np.where(y1sum < lower)[0]], x1[np.where(y1sum < lower)[0]]), axis=1)\n",
    "# tmp = np.array([y2[np.where(y2 < lower)[0]], x2[np.where(y2 < lower)[0]]]).T\n",
    "tmp = np.concatenate((y2[np.where(y2sum < lower)[0]], x2[np.where(y2sum < lower)[0]]), axis=1)\n",
    "\n",
    "normalInstance = np.concatenate((normalInstance, tmp), axis=0)\n",
    "print('normal:', normalInstance.shape)\n",
    "instances = np.concatenate((anomalyInstance, normalInstance), axis=0)\n",
    "print('total instance:', instances.shape)\n",
    "labels = [0 for i in range(len(anomalyInstance))]\n",
    "labels.extend([1 for i in range(len(normalInstance))])\n",
    "labels = np.array(labels)\n",
    "print('total label:', labels.shape)\n",
    "for i in range(1, len(normalInstance) // len(anomalyInstance)):\n",
    "    instances = np.concatenate((instances, anomalyInstance), axis=0)\n",
    "    labels = np.concatenate((labels, [0 for j in range(len(anomalyInstance))]), axis=0)\n",
    "#     print(instances.shape, labels.shape)\n",
    "\n",
    "np.save('../data/activity/training_data.npy', instances)\n",
    "np.save('../data/activity/traning_label.npy', labels)\n",
    "# print(instances)\n",
    "# print(labels)\n",
    "# anomalyInstance = np.array([y1, x1]).T\n",
    "anomalyInstance = np.concatenate((y1, x1), axis=1)\n",
    "# normalInstance = np.array([y2, x2]).T\n",
    "normalInstance = np.concatenate((y2, x2), axis=1)\n",
    "instances = np.concatenate((anomalyInstance, normalInstance), axis=0)\n",
    "\n",
    "labels = [0 for i in range(len(anomalyInstance))]\n",
    "labels.extend([1 for i in range(len(normalInstance))])\n",
    "labels = np.array(labels)\n",
    "print(instances.shape)\n",
    "# print(instances)\n",
    "# print(labels)\n",
    "np.save('../data/activity/testing_data.npy', instances) \n",
    "np.save('../data/activity/testing_label.npy', labels)"
   ]
  },
  {
   "cell_type": "code",
   "execution_count": 113,
   "metadata": {},
   "outputs": [
    {
     "name": "stdout",
     "output_type": "stream",
     "text": [
      "(48880, 121) (198131, 121) (48880, 5) (198131, 5)\n",
      "6176\n",
      "anomaly: (6176, 126)\n",
      "normal: (134177, 126)\n",
      "total instance: (140353, 126)\n",
      "total label: (140353,)\n",
      "(247011, 126)\n"
     ]
    }
   ],
   "source": [
    "# first is normal, secord is anomaly\n",
    "# kdd99 \n",
    "upper = 102.5 #10000000 #102.5 #58.5  #46    #20.22\n",
    "lower = 0.1\n",
    "#normal\n",
    "# upper1 = 100 #100 #102.5 #102.5\n",
    "# upper2 = 19.94 #43.5 #15 #65.3\n",
    "#anomaly\n",
    "# upper1 = 98.5 #102.5 #102.5\n",
    "# upper2 = 86 #86.4#90.5\n",
    "\n",
    "print(y1.shape, y2.shape, x1.shape, x2.shape)\n",
    "\n",
    "anomalyInstance = np.concatenate((y1[np.where(y1sum > upper)[0]], x1[np.where(y1sum > upper)[0]]), axis=1)\n",
    "tmp = np.concatenate((y2[np.where(y2sum > upper)[0]], x2[np.where(y2sum > upper)[0]]), axis=1)\n",
    "print(len(anomalyInstance) + len(tmp))\n",
    "\n",
    "anomalyInstance = np.concatenate((anomalyInstance, tmp), axis=0)\n",
    "\n",
    "# anomalyInstance2 = np.concatenate((y1[np.where((y1sum > upper2) & (y1sum < upper1))[0]], x1[np.where((y1sum > upper2) & (y1sum < upper1))[0]]), axis=1)\n",
    "# print('anomalyInstance2:', anomalyInstance2.shape)\n",
    "# anomalyInstance = np.concatenate((anomalyInstance, anomalyInstance2), axis=0)\n",
    "\n",
    "print('anomaly:',anomalyInstance.shape)\n",
    "\n",
    "normalInstance = []\n",
    "normalInstance = np.concatenate((y1[np.where(y1sum < lower)[0]], x1[np.where(y1sum < lower)[0]]), axis=1)\n",
    "tmp = np.concatenate((y2[np.where(y2sum < lower)[0]], x2[np.where(y2sum < lower)[0]]), axis=1)\n",
    "\n",
    "normalInstance = np.concatenate((normalInstance, tmp), axis=0)\n",
    "\n",
    "# normalInstance2 = np.concatenate((y2[np.where((y2sum > upper2) & (y2sum < upper1))[0]], x2[np.where((y2sum > upper2) & (y2sum < upper1))[0]]), axis=1)\n",
    "# print('normalInstance2:', normalInstance2.shape)\n",
    "# normalInstance = np.concatenate((normalInstance, normalInstance2), axis=0)\n",
    "\n",
    "print('normal:', normalInstance.shape)\n",
    "instances = np.concatenate((anomalyInstance, normalInstance), axis=0)\n",
    "print('total instance:', instances.shape)\n",
    "labels = [0 for i in range(len(anomalyInstance))]\n",
    "labels.extend([1 for i in range(len(normalInstance))])\n",
    "labels = np.array(labels)\n",
    "print('total label:', labels.shape)\n",
    "for i in range(1, len(normalInstance) // len(anomalyInstance)):\n",
    "    instances = np.concatenate((instances, anomalyInstance), axis=0)\n",
    "    labels = np.concatenate((labels, [0 for j in range(len(anomalyInstance))]), axis=0)\n",
    "\n",
    "np.save('../data/activity/training_data.npy', instances)\n",
    "np.save('../data/activity/traning_label.npy', labels)\n",
    "anomalyInstance = np.concatenate((y1, x1), axis=1)\n",
    "normalInstance = np.concatenate((y2, x2), axis=1)\n",
    "instances = np.concatenate((anomalyInstance, normalInstance), axis=0)\n",
    "\n",
    "labels = [0 for i in range(len(anomalyInstance))]\n",
    "labels.extend([1 for i in range(len(normalInstance))])\n",
    "labels = np.array(labels)\n",
    "print(instances.shape)\n",
    "\n",
    "np.save('../data/activity/testing_data.npy', instances) \n",
    "np.save('../data/activity/testing_label.npy', labels)"
   ]
  },
  {
   "cell_type": "code",
   "execution_count": 140,
   "metadata": {},
   "outputs": [],
   "source": [
    "x = np.load('../data/activity/std.npy')\n",
    "y = np.load('../data/activity/mu_loss.npy')\n",
    "label = np.load('../data/activity/y_test.npy')\n",
    "\n",
    "x2 = x[:9991]\n",
    "y2 = y[:9991]\n",
    "x1 = x[-1990:]\n",
    "y1 = y[-1990:]"
   ]
  },
  {
   "cell_type": "code",
   "execution_count": 227,
   "metadata": {},
   "outputs": [
    {
     "name": "stdout",
     "output_type": "stream",
     "text": [
      "48880 8957\n",
      "0.23414746711684906\n",
      "0.19788592410864295\n",
      " Precision = 0.845\n",
      " Recall    = 1.000\n",
      " F1-Score  = 0.916\n",
      "8957 198131\n"
     ]
    }
   ],
   "source": [
    "# mu > 3.425, sigma > 1\n",
    "# 29\n",
    "anomaly_index_true = len(set(np.where(y1sum > 1)[0]) | set(np.where(x1sum > 0.4)[0]))\n",
    "anomaly_index_false = len(set(np.where(y2sum > 1)[0]) | set(np.where(x2sum > 0.4)[0]))\n",
    "recall = anomaly_index_true / len(y1sum)\n",
    "precision = anomaly_index_true / (anomaly_index_true + anomaly_index_false)\n",
    "print(anomaly_index_true , anomaly_index_false)\n",
    "f1 = 2 * recall * precision / (recall + precision)\n",
    "print((anomaly_index_true + anomaly_index_false) / (len(y1) + len(y2)))\n",
    "print(len(y1) / (len(y1) + len(y2)))\n",
    "# print('Recall = ', recall, '\\nPrecision = ',precision , '\\nF1-Score = ', f1)\n",
    "print(f\" Precision = {precision:.3f}\")\n",
    "print(f\" Recall    = {recall:.3f}\")\n",
    "print(f\" F1-Score  = {f1:.3f}\")\n",
    "print(anomaly_index_false, len(y2))"
   ]
  },
  {
   "cell_type": "code",
   "execution_count": 42,
   "metadata": {
    "scrolled": true
   },
   "outputs": [
    {
     "data": {
      "text/plain": [
       "<matplotlib.collections.PathCollection at 0x7f44190fb550>"
      ]
     },
     "execution_count": 42,
     "metadata": {},
     "output_type": "execute_result"
    },
    {
     "data": {
      "image/png": "[encoded data removed]",
      "text/plain": [
       "<Figure size 432x288 with 1 Axes>"
      ]
     },
     "metadata": {
      "needs_background": "light"
     },
     "output_type": "display_data"
    }
   ],
   "source": [
    "fig = plt.figure()\n",
    "ax = plt.subplot()\n",
    "ax.scatter(x1sum, y1sum,s=1, c='red', alpha=0.6)\n",
    "ax.scatter(x2sum, y2sum,s=1, c='green', alpha=0.6) \n",
    "\n",
    "# ax.scatter(x1sum, y1sum,c='red', alpha=0.6)"
   ]
  },
  {
   "cell_type": "code",
   "execution_count": 24,
   "metadata": {},
   "outputs": [],
   "source": [
    "pred = np.load('../data/kddcup99/pred.npy')\n",
    "observe = np.load('../data/kddcup99/observe.npy')\n",
    "data = np.load('../data/kddcup99/data.npy')       "
   ]
  },
  {
   "cell_type": "code",
   "execution_count": 25,
   "metadata": {},
   "outputs": [],
   "source": [
    "TT = np.where((pred & observe) == 1)[0]\n",
    "FF = np.where((pred | observe) == 0)[0]\n",
    "TF = np.where((pred - observe) == -1)[0]\n",
    "FT = np.where((pred - observe) == 1)[0]"
   ]
  },
  {
   "cell_type": "code",
   "execution_count": 26,
   "metadata": {},
   "outputs": [],
   "source": [
    "# import random\n",
    "# x = np.sum(np.concatenate((x1, x2), axis=0), axis = 1).squeeze()\n",
    "# y = np.sum(np.concatenate((y1, y2), axis=0), axis = 1).squeeze()\n",
    "\n",
    "# x_TT = x[TT]\n",
    "# y_TT = y[TT]\n",
    "# x_FF = x[FF]\n",
    "# y_FF = y[FF]\n",
    "# x_TF = x[TF]\n",
    "# y_TF = y[TF]\n",
    "# x_FT = x[FT]\n",
    "# y_FT = y[FT]\n",
    "\n",
    "x_TT = np.sum(data[:,121:], axis = 1).squeeze()[TT]\n",
    "y_TT = np.sum(data[:,:121], axis = 1).squeeze()[TT]\n",
    "x_FF = np.sum(data[:,121:], axis = 1).squeeze()[FF]\n",
    "y_FF = np.sum(data[:,:121], axis = 1).squeeze()[FF]\n",
    "x_TF = np.sum(data[:,121:], axis = 1).squeeze()[TF]\n",
    "y_TF = np.sum(data[:,:121], axis = 1).squeeze()[TF]\n",
    "x_FT = np.sum(data[:,121:], axis = 1).squeeze()[FT]\n",
    "y_FT = np.sum(data[:,:121], axis = 1).squeeze()[FT]"
   ]
  },
  {
   "cell_type": "code",
   "execution_count": 28,
   "metadata": {
    "scrolled": true
   },
   "outputs": [
    {
     "name": "stderr",
     "output_type": "stream",
     "text": [
      "/home/nana/anaconda3/lib/python3.7/site-packages/matplotlib/font_manager.py:1331: UserWarning: findfont: Font family ['Times New Roman'] not found. Falling back to DejaVu Sans\n",
      "  (prop.get_family(), self.defaultFamily[fontext]))\n"
     ]
    },
    {
     "data": {
      "text/plain": [
       "<Figure size 432x288 with 0 Axes>"
      ]
     },
     "metadata": {},
     "output_type": "display_data"
    },
    {
     "data": {
      "image/png": "[encoded data removed]",
      "text/plain": [
       "<Figure size 432x432 with 1 Axes>"
      ]
     },
     "metadata": {
      "needs_background": "light"
     },
     "output_type": "display_data"
    }
   ],
   "source": [
    "import matplotlib.pyplot as plt\n",
    "fig = plt.figure()\n",
    "plt.figure(figsize=(6,6))\n",
    "\n",
    "ax = plt.subplot()\n",
    "\n",
    "plt.xlim([0.0000001,0.25]) #thyroid 0,0.15 letter 0,0.6 kddcup99 0.0000001,0.25\n",
    "plt.ylim([0.02,100000])  #thyroid 0,10  letter 0,60  kddcup99 0.02,100000\n",
    "plt.yscale('log')\n",
    "plt.xscale('log')\n",
    "\n",
    "font2 = {'family' : 'Times New Roman',\n",
    "'weight' : 'normal',\n",
    "'size'   : 15, # letter,thyroid 12 kddcup99 10\n",
    "}\n",
    "\n",
    "plt.xlabel('Norm of latent standard deviation $||\\sigma_z||_2$', font2)\n",
    "plt.ylabel('Norm of reconstruction loss $||d||_2$', font2)\n",
    "\n",
    "l1 = ax.scatter(x_TF, y_TF, s=5, c='green', alpha=0.6)\n",
    "l2 = ax.scatter(x_FT, y_FT, s=5, c='orange', alpha=0.6)\n",
    "l3 = ax.scatter(x_TT, y_TT, s=5, c='blue', alpha=0.6)\n",
    "l4 = ax.scatter(x_FF, y_FF, s=5, c='red', alpha=0.6) \n",
    "\n",
    " \n",
    "plt.legend(handles = [l4, l2, l3, l1], labels = ['Anomaly','Anomaly identified  as Normal','Normal','Normal identified as Anomaly'], loc = 'best', prop = {'size':14})\n",
    "\n",
    "plt.savefig('../result/kddcup99.png', dpi=1000)"
   ]
  },
  {
   "cell_type": "code",
   "execution_count": null,
   "metadata": {},
   "outputs": [],
   "source": []
  }
 ],
 "metadata": {
  "kernelspec": {
   "display_name": "Python 3",
   "language": "python",
   "name": "python3"
  },
  "language_info": {
   "codemirror_mode": {
    "name": "ipython",
    "version": 3
   },
   "file_extension": ".py",
   "mimetype": "text/x-python",
   "name": "python",
   "nbconvert_exporter": "python",
   "pygments_lexer": "ipython3",
   "version": "3.7.2"
  }
 },
 "nbformat": 4,
 "nbformat_minor": 2
}
