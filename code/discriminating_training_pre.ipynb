{
 "cells": [
  {
   "cell_type": "code",
   "execution_count": 110,
   "metadata": {},
   "outputs": [
    {
     "name": "stdout",
     "output_type": "stream",
     "text": [
      "(48880, 5) (48880, 121) (198131, 5) (198131, 121)\n"
     ]
    }
   ],
   "source": [
    "import numpy as np\n",
    "import matplotlib.pyplot as plt\n",
    "\n",
    "datadir = '../data/kddcup99/'\n",
    "\n",
    "# anomaly\n",
    "x2 = np.load(datadir + 'anomaly_std.npy').squeeze()\n",
    "y2 = np.load(datadir + 'anomaly_mu_loss.npy').squeeze()\n",
    "# normal\n",
    "x1 = np.load(datadir + 'normal_std.npy').squeeze()\n",
    "y1 = np.load(datadir + 'normal_mu_loss.npy').squeeze()\n",
    "\n",
    "print(x2.shape, y2.shape, x1.shape, y1.shape)"
   ]
  },
  {
   "cell_type": "code",
   "execution_count": 111,
   "metadata": {},
   "outputs": [
    {
     "name": "stdout",
     "output_type": "stream",
     "text": [
      "0 140009\n",
      "48722 7596\n",
      "0.006105543591652741 188.82746833591997 0.12505401728267138 88.49631214658446\n",
      "(48880,) (48880,) (198131,) (198131,)\n",
      "0.9262913743607293\n"
     ]
    }
   ],
   "source": [
    "x2sum = np.sum(x2, axis = 1).squeeze()\n",
    "y2sum = np.sum(y2, axis = 1).squeeze()\n",
    "x1sum = np.sum(x1, axis = 1).squeeze()\n",
    "y1sum = np.sum(y1, axis = 1).squeeze()\n",
    "\n",
    "# fig = plt.figure()\n",
    "# ax = plt.subplot()\n",
    "# ax.scatter(x1sum, y1sum,s=1, c='green', alpha=0.6)\n",
    "# ax.scatter(x2sum, y2sum,s=1, c='red', alpha=0.6) \n",
    "\n",
    "threshold = 25\n",
    "print(len(y2sum[(y2sum < 10)]), len((y1sum[y1sum < 10])))\n",
    "print(len(y2sum[y2sum > threshold]), len(y1sum[y1sum > threshold]))\n",
    "\n",
    "print(x2sum.mean(), y2sum.mean(), x1sum.mean(), y1sum.mean())\n",
    "print(x2sum.shape, y2sum.shape, x1sum.shape, y1sum.shape)\n",
    "\n",
    "\n",
    "\n",
    "recall = len(y2sum[y2sum > threshold]) / 48880\n",
    "presicion = len(y2sum[y2sum > threshold]) / (len(y2sum[y2sum > threshold])+len(y1sum[y1sum > threshold]))\n",
    "f1 = 2*recall*presicion / (recall + presicion)\n",
    "print(f1)"
   ]
  },
  {
   "cell_type": "code",
   "execution_count": 196,
   "metadata": {},
   "outputs": [
    {
     "name": "stdout",
     "output_type": "stream",
     "text": [
      "upper: 300.5014869045385 lower: 8.27565501868844 anomaly_upper: 266.0199883118474\n"
     ]
    }
   ],
   "source": [
    "np.concatenate([y1sum, y2sum])\n",
    "\n",
    "percentage = [97.5, 95, 92.5]\n",
    "anomaly_percentage = [95.7, 95.6, 95.5]\n",
    "\n",
    "upper = np.percentile(np.concatenate([y1sum, y2sum]), percentage[0])\n",
    "lower = np.percentile(np.concatenate([y1sum, y2sum]), 50)\n",
    "\n",
    "anomaly_upper = np.percentile(y2sum, anomaly_percentage[2])\n",
    "print('upper:', upper, 'lower:', lower, 'anomaly_upper:', anomaly_upper)"
   ]
  },
  {
   "cell_type": "code",
   "execution_count": 197,
   "metadata": {},
   "outputs": [
    {
     "name": "stdout",
     "output_type": "stream",
     "text": [
      "(198131, 121) (48880, 121) (198131, 5) (48880, 5)\n",
      "anomaly: (8376, 126)\n",
      "normal: (123411, 126)\n",
      "total instance: (131787, 126)\n",
      "total label: (131787,)\n",
      "240675 240675\n",
      "48880\n",
      "(247011, 126)\n"
     ]
    }
   ],
   "source": [
    "# first is normal, secord is anomaly\n",
    "\n",
    "# kdd99 \n",
    "# upper = 200 #102.5 #10000000 #102.5 #58.5  #46    #20.22\n",
    "# lower = 10 #0.1\n",
    "# upper1 = 20.15  #7.6      #16    #20.06 #20.15 #nan \n",
    "\n",
    "# # letter\n",
    "# upper = 41.6  #31.3 #33.8 #37 #41.6\n",
    "# lower = 17.5\n",
    "\n",
    "# # thyroid\n",
    "# upper = 2 #0.4  #0.57 #0.95 #2\n",
    "# lower = 0.04\n",
    "\n",
    "# y1 = y1sum\n",
    "# y2 = y2sum\n",
    "# x1 = x1sum\n",
    "# x2 = x2sum\n",
    "print(y1.shape, y2.shape, x1.shape, x2.shape)\n",
    "\n",
    "anomalyInstance = np.concatenate((y1[np.where(y1sum > upper)[0]], x1[np.where(y1sum > upper)[0]]), axis=1)\n",
    "tmp = np.concatenate((y2[np.where(y2sum > upper)[0]], x2[np.where(y2sum > upper)[0]]), axis=1)\n",
    "# anomalyInstance = np.concatenate((anomalyInstance, tmp), axis=0)\n",
    "\n",
    "anomalyLableInstance = np.concatenate((y2[np.where(y2sum > anomaly_upper)[0]], x2[np.where(y2sum > anomaly_upper)[0]]), axis=1)\n",
    "anomalyInstance = np.concatenate((anomalyInstance, tmp, anomalyLableInstance), axis=0)\n",
    "\n",
    "print('anomaly:',anomalyInstance.shape)\n",
    "\n",
    "\n",
    "normalInstance = []\n",
    "normalInstance = np.concatenate((y1[np.where(y1sum < lower)[0]], x1[np.where(y1sum < lower)[0]]), axis=1)\n",
    "tmp = np.concatenate((y2[np.where(y2sum < lower)[0]], x2[np.where(y2sum < lower)[0]]), axis=1)\n",
    "\n",
    "normalInstance = np.concatenate((normalInstance, tmp), axis=0)\n",
    "print('normal:', normalInstance.shape)\n",
    "instances = np.concatenate((anomalyInstance, normalInstance), axis=0)\n",
    "print('total instance:', instances.shape)\n",
    "labels = [1 for i in range(len(anomalyInstance))]\n",
    "labels.extend([0 for i in range(len(normalInstance))])\n",
    "labels = np.array(labels)\n",
    "print('total label:', labels.shape)\n",
    "\n",
    "for i in range(1, len(normalInstance) // len(anomalyInstance)):\n",
    "    instances = np.concatenate((instances, anomalyInstance), axis=0)\n",
    "    labels = np.concatenate((labels, [1 for j in range(len(anomalyInstance))]), axis=0)\n",
    "print(len(instances), len(labels))\n",
    "np.save(datadir + 'training_data.npy', instances)\n",
    "np.save(datadir + 'traning_label.npy', labels)\n",
    "\n",
    "anomalyInstance = np.concatenate((y2, x2), axis=1)\n",
    "normalInstance = np.concatenate((y1, x1), axis=1)\n",
    "instances = np.concatenate((anomalyInstance, normalInstance), axis=0)\n",
    "\n",
    "labels = [1 for i in range(len(anomalyInstance))]\n",
    "labels.extend([0 for i in range(len(normalInstance))])\n",
    "print(len(anomalyInstance))\n",
    "labels = np.array(labels)\n",
    "print(instances.shape)\n",
    "\n",
    "np.save(datadir + 'testing_data.npy', instances) \n",
    "np.save(datadir + 'testing_label.npy', labels)"
   ]
  },
  {
   "cell_type": "code",
   "execution_count": null,
   "metadata": {},
   "outputs": [],
   "source": []
  }
 ],
 "metadata": {
  "kernelspec": {
   "display_name": "Python 3",
   "language": "python",
   "name": "python3"
  },
  "language_info": {
   "codemirror_mode": {
    "name": "ipython",
    "version": 3
   },
   "file_extension": ".py",
   "mimetype": "text/x-python",
   "name": "python",
   "nbconvert_exporter": "python",
   "pygments_lexer": "ipython3",
   "version": "3.7.0"
  }
 },
 "nbformat": 4,
 "nbformat_minor": 2
}
