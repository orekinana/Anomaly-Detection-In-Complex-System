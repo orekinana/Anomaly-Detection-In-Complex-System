{
 "cells": [
  {
   "cell_type": "code",
   "execution_count": 2,
   "metadata": {},
   "outputs": [
    {
     "name": "stdout",
     "output_type": "stream",
     "text": [
      "(9492, 10) (9492, 522) (508, 10) (508, 522)\n"
     ]
    }
   ],
   "source": [
    "import numpy as np\n",
    "import matplotlib.pyplot as plt\n",
    "\n",
    "datadir = '../data/UJIndoorLoc/'\n",
    "\n",
    "# anomaly\n",
    "x2 = np.load(datadir + 'std1.npy').squeeze()\n",
    "y2 = np.load(datadir + 'mu_loss1.npy').squeeze()\n",
    "# normal\n",
    "x1 = np.load(datadir + 'std.npy').squeeze()\n",
    "y1 = np.load(datadir + 'mu_loss.npy').squeeze()\n",
    "\n",
    "print(x2.shape, y2.shape, x1.shape, y1.shape)"
   ]
  },
  {
   "cell_type": "code",
   "execution_count": 3,
   "metadata": {},
   "outputs": [
    {
     "name": "stdout",
     "output_type": "stream",
     "text": [
      "838 85\n",
      "0.024436839999738533 85.05334454736878 0.020492987118773405 191.97551986070366\n",
      "(9492,) (9492,) (508,) (508,)\n"
     ]
    },
    {
     "data": {
      "image/png": "[encoded data removed]",
      "text/plain": [
       "<Figure size 432x288 with 1 Axes>"
      ]
     },
     "metadata": {
      "needs_background": "light"
     },
     "output_type": "display_data"
    }
   ],
   "source": [
    "x2sum = np.sum(x2, axis = 1).squeeze()\n",
    "y2sum = np.sum(y2, axis = 1).squeeze()\n",
    "x1sum = np.sum(x1, axis = 1).squeeze()\n",
    "y1sum = np.sum(y1, axis = 1).squeeze()\n",
    "\n",
    "fig = plt.figure()\n",
    "ax = plt.subplot()\n",
    "ax.scatter(x1sum, y1sum,s=1, c='red', alpha=0.6)\n",
    "ax.scatter(x2sum, y2sum,s=1, c='green', alpha=0.6) \n",
    "\n",
    "\n",
    "print(len(y2sum[y2sum > 200]), len(y1sum[y1sum > 200]))\n",
    "# print(len(y2sum[y2sum < 150]), len(y1sum[y1sum < 150]))\n",
    "\n",
    "print(x2sum.mean(), y2sum.mean(), x1sum.mean(), y1sum.mean())\n",
    "print(x2sum.shape, y2sum.shape, x1sum.shape, y1sum.shape)"
   ]
  },
  {
   "cell_type": "code",
   "execution_count": 7,
   "metadata": {},
   "outputs": [
    {
     "name": "stdout",
     "output_type": "stream",
     "text": [
      "(508, 522) (9492, 522) (508, 10) (9492, 10)\n",
      "740\n",
      "740\n",
      "anomaly: (740, 532)\n",
      "normal: (5452, 532)\n",
      "total instance: (6192, 532)\n",
      "total label: (6192,)\n",
      "(10000, 532)\n"
     ]
    }
   ],
   "source": [
    "# first is normal, secord is anomaly\n",
    "\n",
    "# kdd99 \n",
    "upper = 250 #102.5 #10000000 #102.5 #58.5  #46    #20.22\n",
    "lower = 40 #0.1\n",
    "# upper1 = 20.15  #7.6      #16    #20.06 #20.15 #nan \n",
    "\n",
    "# # letter\n",
    "# upper = 41.6  #31.3 #33.8 #37 #41.6\n",
    "# lower = 17.5\n",
    "\n",
    "# # thyroid\n",
    "# upper = 2 #0.4  #0.57 #0.95 #2\n",
    "# lower = 0.04\n",
    "\n",
    "# y1 = y1sum\n",
    "# y2 = y2sum\n",
    "# x1 = x1sum\n",
    "# x2 = x2sum\n",
    "print(y1.shape, y2.shape, x1.shape, x2.shape)\n",
    "\n",
    "# anomalyInstance = np.array([y1[np.where(y1sum > upper)[0]], x1[np.where(y1sum > upper)[0]]]).T\n",
    "anomalyInstance = np.concatenate((y1[np.where(y1sum > upper)[0]], x1[np.where(y1sum > upper)[0]]), axis=1)\n",
    "# tmp = np.array([y2[np.where(y2sum > upper)[0]], x2[np.where(y2sum > upper)[0]]]).T\n",
    "tmp = np.concatenate((y2[np.where(y2sum > upper)[0]], x2[np.where(y2sum > upper)[0]]), axis=1)\n",
    "print(len(anomalyInstance) + len(tmp))\n",
    "# anomalyInstance = np.array([y1[np.where(y1 > upper1)[0]], x1[np.where(y1 > upper1)[0]]]).T\n",
    "# anomalyInstance = np.concatenate((y1[np.where(y1sum > upper1)[0]], x1[np.where(y1sum > upper1)[0]]), axis=1)\n",
    "print(len(anomalyInstance) + len(tmp))\n",
    "\n",
    "\n",
    "anomalyInstance = np.concatenate((anomalyInstance, tmp), axis=0)\n",
    "print('anomaly:',anomalyInstance.shape)\n",
    "\n",
    "\n",
    "normalInstance = []\n",
    "# normalInstance = np.array([y1[np.where(y1 < lower)[0]], x1[np.where(y1 < lower)[0]]]).T\n",
    "normalInstance = np.concatenate((y1[np.where(y1sum < lower)[0]], x1[np.where(y1sum < lower)[0]]), axis=1)\n",
    "# tmp = np.array([y2[np.where(y2 < lower)[0]], x2[np.where(y2 < lower)[0]]]).T\n",
    "tmp = np.concatenate((y2[np.where(y2sum < lower)[0]], x2[np.where(y2sum < lower)[0]]), axis=1)\n",
    "\n",
    "normalInstance = np.concatenate((normalInstance, tmp), axis=0)\n",
    "print('normal:', normalInstance.shape)\n",
    "instances = np.concatenate((anomalyInstance, normalInstance), axis=0)\n",
    "print('total instance:', instances.shape)\n",
    "labels = [0 for i in range(len(anomalyInstance))]\n",
    "labels.extend([1 for i in range(len(normalInstance))])\n",
    "labels = np.array(labels)\n",
    "print('total label:', labels.shape)\n",
    "for i in range(1, len(normalInstance) // len(anomalyInstance)):\n",
    "    instances = np.concatenate((instances, anomalyInstance), axis=0)\n",
    "    labels = np.concatenate((labels, [0 for j in range(len(anomalyInstance))]), axis=0)\n",
    "#     print(instances.shape, labels.shape)\n",
    "\n",
    "np.save('../data/activity/training_data.npy', instances)\n",
    "np.save('../data/activity/traning_label.npy', labels)\n",
    "# print(instances)\n",
    "# print(labels)\n",
    "# anomalyInstance = np.array([y1, x1]).T\n",
    "anomalyInstance = np.concatenate((y1, x1), axis=1)\n",
    "# normalInstance = np.array([y2, x2]).T\n",
    "normalInstance = np.concatenate((y2, x2), axis=1)\n",
    "instances = np.concatenate((anomalyInstance, normalInstance), axis=0)\n",
    "\n",
    "labels = [0 for i in range(len(anomalyInstance))]\n",
    "labels.extend([1 for i in range(len(normalInstance))])\n",
    "labels = np.array(labels)\n",
    "print(instances.shape)\n",
    "# print(instances)\n",
    "# print(labels)\n",
    "np.save('../data/activity/testing_data.npy', instances) \n",
    "np.save('../data/activity/testing_label.npy', labels)"
   ]
  },
  {
   "cell_type": "code",
   "execution_count": null,
   "metadata": {},
   "outputs": [],
   "source": []
  }
 ],
 "metadata": {
  "kernelspec": {
   "display_name": "Python 3",
   "language": "python",
   "name": "python3"
  },
  "language_info": {
   "codemirror_mode": {
    "name": "ipython",
    "version": 3
   },
   "file_extension": ".py",
   "mimetype": "text/x-python",
   "name": "python",
   "nbconvert_exporter": "python",
   "pygments_lexer": "ipython3",
   "version": "3.7.0"
  }
 },
 "nbformat": 4,
 "nbformat_minor": 2
}
